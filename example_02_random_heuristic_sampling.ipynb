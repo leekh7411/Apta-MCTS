{
 "cells": [
  {
   "cell_type": "markdown",
   "metadata": {},
   "source": [
    "## ***Sampling candidate sequences using Random Heuristic Method***\n",
    "- reference : Lee, Wook, and Kyungsook Han. \"Constructive prediction of potential RNA aptamers for a protein target.\" IEEE/ACM transactions on computational biology and bioinformatics (2019)."
   ]
  },
  {
   "cell_type": "code",
   "execution_count": 1,
   "metadata": {},
   "outputs": [
    {
     "name": "stdout",
     "output_type": "stream",
     "text": [
      "> Benchmark        : benchmark_docking.csv\n",
      "- protein features : (56, 399)\n",
      "- rna features     : (56, 340)\n"
     ]
    },
    {
     "data": {
      "text/html": [
       "<div>\n",
       "<style scoped>\n",
       "    .dataframe tbody tr th:only-of-type {\n",
       "        vertical-align: middle;\n",
       "    }\n",
       "\n",
       "    .dataframe tbody tr th {\n",
       "        vertical-align: top;\n",
       "    }\n",
       "\n",
       "    .dataframe thead th {\n",
       "        text-align: right;\n",
       "    }\n",
       "</style>\n",
       "<table border=\"1\" class=\"dataframe\">\n",
       "  <thead>\n",
       "    <tr style=\"text-align: right;\">\n",
       "      <th></th>\n",
       "      <th>test-ID</th>\n",
       "      <th>protein-ID</th>\n",
       "      <th>rna-ID</th>\n",
       "      <th>protein</th>\n",
       "      <th>protein-length</th>\n",
       "      <th>rna</th>\n",
       "      <th>rna-length</th>\n",
       "    </tr>\n",
       "  </thead>\n",
       "  <tbody>\n",
       "    <tr>\n",
       "      <th>0</th>\n",
       "      <td>0</td>\n",
       "      <td>Bovine_factor_IX</td>\n",
       "      <td>17030508-Bovine factor IX-1</td>\n",
       "      <td>MQRVNMIMAESPGLITICLLGYLLSAECTVFLDHENANKILNRPKR...</td>\n",
       "      <td>461</td>\n",
       "      <td>GGGAGCUCAGCCUUCACUGCCUACGCGGGCGUUUACGUAACGGCUU...</td>\n",
       "      <td>114</td>\n",
       "    </tr>\n",
       "    <tr>\n",
       "      <th>1</th>\n",
       "      <td>1</td>\n",
       "      <td>Bovine_factor_IX</td>\n",
       "      <td>17030508-Bovine factor IX-Ma-1</td>\n",
       "      <td>MQRVNMIMAESPGLITICLLGYLLSAECTVFLDHENANKILNRPKR...</td>\n",
       "      <td>461</td>\n",
       "      <td>GGGAUCGUGGUAGUGCGAAGCCAGUAAACGAGGGCACCACGGUCC</td>\n",
       "      <td>45</td>\n",
       "    </tr>\n",
       "    <tr>\n",
       "      <th>2</th>\n",
       "      <td>2</td>\n",
       "      <td>oligoadenylate_synthetase</td>\n",
       "      <td>9452437-oligoadenylatesynthetase-4</td>\n",
       "      <td>MAVAQELYGFPASKLDSFVAQWLQPTREWKEEVLETVQTVEQFLRQ...</td>\n",
       "      <td>511</td>\n",
       "      <td>UAUCCUCGCCCGUGCACGCCCUCCACUAAGCCCA</td>\n",
       "      <td>34</td>\n",
       "    </tr>\n",
       "    <tr>\n",
       "      <th>3</th>\n",
       "      <td>3</td>\n",
       "      <td>Envelope_glycoprotein_GP120</td>\n",
       "      <td>14610191-gp120-10</td>\n",
       "      <td>LLNGSLAEEIVIRTENIADNTKDIIVQFNKTVSIACTRPHNNTRRG...</td>\n",
       "      <td>214</td>\n",
       "      <td>GUUUAUAUAUACACAGGUUAAGCGUAACUUCGCUGGACAGCAAGAA...</td>\n",
       "      <td>50</td>\n",
       "    </tr>\n",
       "    <tr>\n",
       "      <th>4</th>\n",
       "      <td>4</td>\n",
       "      <td>Envelope_glycoprotein_GP120</td>\n",
       "      <td>14610191-gp120-9</td>\n",
       "      <td>LLNGSLAEEIVIRTENIADNTKDIIVQFNKTVSIACTRPHNNTRRG...</td>\n",
       "      <td>214</td>\n",
       "      <td>CACCUACCUAAUUAUUAAACUUUGGGCAGUAUCCCGCUUUGCUUCU...</td>\n",
       "      <td>50</td>\n",
       "    </tr>\n",
       "  </tbody>\n",
       "</table>\n",
       "</div>"
      ],
      "text/plain": [
       "   test-ID                   protein-ID                              rna-ID  \\\n",
       "0        0             Bovine_factor_IX         17030508-Bovine factor IX-1   \n",
       "1        1             Bovine_factor_IX      17030508-Bovine factor IX-Ma-1   \n",
       "2        2    oligoadenylate_synthetase  9452437-oligoadenylatesynthetase-4   \n",
       "3        3  Envelope_glycoprotein_GP120                   14610191-gp120-10   \n",
       "4        4  Envelope_glycoprotein_GP120                    14610191-gp120-9   \n",
       "\n",
       "                                             protein  protein-length  \\\n",
       "0  MQRVNMIMAESPGLITICLLGYLLSAECTVFLDHENANKILNRPKR...             461   \n",
       "1  MQRVNMIMAESPGLITICLLGYLLSAECTVFLDHENANKILNRPKR...             461   \n",
       "2  MAVAQELYGFPASKLDSFVAQWLQPTREWKEEVLETVQTVEQFLRQ...             511   \n",
       "3  LLNGSLAEEIVIRTENIADNTKDIIVQFNKTVSIACTRPHNNTRRG...             214   \n",
       "4  LLNGSLAEEIVIRTENIADNTKDIIVQFNKTVSIACTRPHNNTRRG...             214   \n",
       "\n",
       "                                                 rna  rna-length  \n",
       "0  GGGAGCUCAGCCUUCACUGCCUACGCGGGCGUUUACGUAACGGCUU...         114  \n",
       "1      GGGAUCGUGGUAGUGCGAAGCCAGUAAACGAGGGCACCACGGUCC          45  \n",
       "2                 UAUCCUCGCCCGUGCACGCCCUCCACUAAGCCCA          34  \n",
       "3  GUUUAUAUAUACACAGGUUAAGCGUAACUUCGCUGGACAGCAAGAA...          50  \n",
       "4  CACCUACCUAAUUAUUAAACUUUGGGCAGUAUCCCGCUUUGCUUCU...          50  "
      ]
     },
     "execution_count": 1,
     "metadata": {},
     "output_type": "execute_result"
    }
   ],
   "source": [
    "from preprocess import load_docking_benchmark_dataset\n",
    "# Load docking-benchmark testset\n",
    "docking_benchmark_dataset_path = \"__benchmark_dataset/benchmark_docking.csv\"\n",
    "pseqs, rseqs, px, rx, df = load_docking_benchmark_dataset(docking_benchmark_dataset_path)\n",
    "df.head()"
   ]
  },
  {
   "cell_type": "markdown",
   "metadata": {},
   "source": [
    "#### *Sampling with benchmark-A classifier and docking-benchmark (56 RNA pairs)*"
   ]
  },
  {
   "cell_type": "code",
   "execution_count": 2,
   "metadata": {},
   "outputs": [
    {
     "name": "stdout",
     "output_type": "stream",
     "text": [
      "\n",
      "> Load RF model with 61 trees\n",
      "- from : classifiers/TESTING-A/mcc0.496-ppv1.000-acc0.826-sn0.303-sp1.000-npv0.812-yd0.303-61trees\n",
      "\n"
     ]
    },
    {
     "name": "stderr",
     "output_type": "stream",
     "text": [
      "/usr/local/lib/python3.6/dist-packages/sklearn/externals/joblib/__init__.py:15: FutureWarning: sklearn.externals.joblib is deprecated in 0.21 and will be removed in 0.23. Please import this functionality directly from joblib, which can be installed with: pip install joblib. If this warning is raised when loading pickled models, you may need to re-serialize those models with scikit-learn 0.21+.\n",
      "  warnings.warn(msg, category=FutureWarning)\n"
     ]
    }
   ],
   "source": [
    "from rand_hue import RandomHeuristicSampling\n",
    "score_function_path = \"classifiers/TESTING-A/mcc0.496-ppv1.000-acc0.826-sn0.303-sp1.000-npv0.812-yd0.303-61trees\"\n",
    "tag = \"RAND_A\"\n",
    "sampler = RandomHeuristicSampling(score_function_path=score_function_path, tag=tag)"
   ]
  },
  {
   "cell_type": "code",
   "execution_count": 3,
   "metadata": {},
   "outputs": [
    {
     "name": "stdout",
     "output_type": "stream",
     "text": [
      "- pre-sampling results already exists : aptamers/pre-samples-n6000000-j30-bp27.txt\n"
     ]
    }
   ],
   "source": [
    "# In our paper, n_samples 6000000, n_jobs 30\n",
    "sampler.pre_sampling(n_samples=6000000, n_jobs=30, bp=27)"
   ]
  },
  {
   "cell_type": "code",
   "execution_count": 4,
   "metadata": {},
   "outputs": [
    {
     "name": "stdout",
     "output_type": "stream",
     "text": [
      "- Load pre-sampled sequences : aptamers/pre-samples-n6000000-j30-bp27.txt\n",
      "- process complete : aptamers/RAND_A/output-00.txt\n",
      "- process complete : aptamers/RAND_A/output-01.txt\n",
      "- process complete : aptamers/RAND_A/output-02.txt\n",
      "- process complete : aptamers/RAND_A/output-03.txt\n",
      "- process complete : aptamers/RAND_A/output-04.txt\n",
      "- process complete : aptamers/RAND_A/output-05.txt\n",
      "- process complete : aptamers/RAND_A/output-06.txt\n",
      "- process complete : aptamers/RAND_A/output-07.txt\n",
      "- process complete : aptamers/RAND_A/output-08.txt\n",
      "- process complete : aptamers/RAND_A/output-09.txt\n",
      "- process complete : aptamers/RAND_A/output-10.txt\n",
      "- process complete : aptamers/RAND_A/output-11.txt\n",
      "- process complete : aptamers/RAND_A/output-12.txt\n",
      "- process complete : aptamers/RAND_A/output-13.txt\n",
      "- process complete : aptamers/RAND_A/output-14.txt\n",
      "- process complete : aptamers/RAND_A/output-15.txt\n",
      "- process complete : aptamers/RAND_A/output-16.txt\n",
      "- process complete : aptamers/RAND_A/output-17.txt\n",
      "- process complete : aptamers/RAND_A/output-18.txt\n",
      "- process complete : aptamers/RAND_A/output-19.txt\n",
      "- process complete : aptamers/RAND_A/output-20.txt\n",
      "- process complete : aptamers/RAND_A/output-21.txt\n",
      "- process complete : aptamers/RAND_A/output-22.txt\n",
      "- process complete : aptamers/RAND_A/output-23.txt\n",
      "- process complete : aptamers/RAND_A/output-24.txt\n",
      "- process complete : aptamers/RAND_A/output-25.txt\n",
      "- process complete : aptamers/RAND_A/output-26.txt\n",
      "- process complete : aptamers/RAND_A/output-27.txt\n",
      "- process complete : aptamers/RAND_A/output-28.txt\n",
      "- process complete : aptamers/RAND_A/output-29.txt\n",
      "- process complete : aptamers/RAND_A/output-30.txt\n",
      "- process complete : aptamers/RAND_A/output-31.txt\n",
      "- process complete : aptamers/RAND_A/output-32.txt\n",
      "- process complete : aptamers/RAND_A/output-33.txt\n",
      "- process complete : aptamers/RAND_A/output-34.txt\n",
      "- process complete : aptamers/RAND_A/output-35.txt\n",
      "- process complete : aptamers/RAND_A/output-36.txt\n",
      "- process complete : aptamers/RAND_A/output-37.txt\n",
      "- process complete : aptamers/RAND_A/output-38.txt\n",
      "- process complete : aptamers/RAND_A/output-39.txt\n",
      "- process complete : aptamers/RAND_A/output-40.txt\n",
      "- process complete : aptamers/RAND_A/output-41.txt\n",
      "- process complete : aptamers/RAND_A/output-42.txt\n",
      "- process complete : aptamers/RAND_A/output-43.txt\n",
      "- process complete : aptamers/RAND_A/output-44.txt\n",
      "- process complete : aptamers/RAND_A/output-45.txt\n",
      "- process complete : aptamers/RAND_A/output-46.txt\n",
      "- process complete : aptamers/RAND_A/output-47.txt\n",
      "- process complete : aptamers/RAND_A/output-48.txt\n",
      "- process complete : aptamers/RAND_A/output-49.txt\n",
      "- process complete : aptamers/RAND_A/output-50.txt\n",
      "- process complete : aptamers/RAND_A/output-51.txt\n",
      "- process complete : aptamers/RAND_A/output-52.txt\n",
      "- process complete : aptamers/RAND_A/output-53.txt\n",
      "- process complete : aptamers/RAND_A/output-54.txt\n",
      "- process complete : aptamers/RAND_A/output-55.txt\n"
     ]
    }
   ],
   "source": [
    "sampler.post_sampling(target_pseqs=pseqs, target_rseqs=rseqs, top_k=10)"
   ]
  },
  {
   "cell_type": "markdown",
   "metadata": {},
   "source": [
    "#### *Sampling with benchmark-B classifier and docking-benchmark (56 RNA pairs)*"
   ]
  },
  {
   "cell_type": "code",
   "execution_count": 5,
   "metadata": {},
   "outputs": [
    {
     "name": "stdout",
     "output_type": "stream",
     "text": [
      "\n",
      "> Load RF model with 79 trees\n",
      "- from : classifiers/TESTING-B/mcc0.593-ppv0.688-acc0.768-sn0.982-sp0.554-npv0.969-yd0.536-79trees\n",
      "\n"
     ]
    }
   ],
   "source": [
    "score_function_path = \"classifiers/TESTING-B/mcc0.593-ppv0.688-acc0.768-sn0.982-sp0.554-npv0.969-yd0.536-79trees\"\n",
    "tag = \"RAND_B\"\n",
    "sampler = RandomHeuristicSampling(score_function_path=score_function_path, tag=tag)"
   ]
  },
  {
   "cell_type": "code",
   "execution_count": 6,
   "metadata": {},
   "outputs": [
    {
     "name": "stdout",
     "output_type": "stream",
     "text": [
      "- pre-sampling results already exists : aptamers/pre-samples-n6000000-j30-bp27.txt\n"
     ]
    }
   ],
   "source": [
    "# In our paper, n_samples 6000000, n_jobs 30\n",
    "sampler.pre_sampling(n_samples=6000000, n_jobs=30, bp=27)"
   ]
  },
  {
   "cell_type": "code",
   "execution_count": 7,
   "metadata": {},
   "outputs": [
    {
     "name": "stdout",
     "output_type": "stream",
     "text": [
      "- Load pre-sampled sequences : aptamers/pre-samples-n6000000-j30-bp27.txt\n",
      "- process complete : aptamers/RAND_B/output-00.txt\n",
      "- process complete : aptamers/RAND_B/output-01.txt\n",
      "- process complete : aptamers/RAND_B/output-02.txt\n",
      "- process complete : aptamers/RAND_B/output-03.txt\n",
      "- process complete : aptamers/RAND_B/output-04.txt\n",
      "- process complete : aptamers/RAND_B/output-05.txt\n",
      "- process complete : aptamers/RAND_B/output-06.txt\n",
      "- process complete : aptamers/RAND_B/output-07.txt\n",
      "- process complete : aptamers/RAND_B/output-08.txt\n",
      "- process complete : aptamers/RAND_B/output-09.txt\n",
      "- process complete : aptamers/RAND_B/output-10.txt\n",
      "- process complete : aptamers/RAND_B/output-11.txt\n",
      "- process complete : aptamers/RAND_B/output-12.txt\n",
      "- process complete : aptamers/RAND_B/output-13.txt\n",
      "- process complete : aptamers/RAND_B/output-14.txt\n",
      "- process complete : aptamers/RAND_B/output-15.txt\n",
      "- process complete : aptamers/RAND_B/output-16.txt\n",
      "- process complete : aptamers/RAND_B/output-17.txt\n",
      "- process complete : aptamers/RAND_B/output-18.txt\n",
      "- process complete : aptamers/RAND_B/output-19.txt\n",
      "- process complete : aptamers/RAND_B/output-20.txt\n",
      "- process complete : aptamers/RAND_B/output-21.txt\n",
      "- process complete : aptamers/RAND_B/output-22.txt\n",
      "- process complete : aptamers/RAND_B/output-23.txt\n",
      "- process complete : aptamers/RAND_B/output-24.txt\n",
      "- process complete : aptamers/RAND_B/output-25.txt\n",
      "- process complete : aptamers/RAND_B/output-26.txt\n",
      "- process complete : aptamers/RAND_B/output-27.txt\n",
      "- process complete : aptamers/RAND_B/output-28.txt\n",
      "- process complete : aptamers/RAND_B/output-29.txt\n",
      "- process complete : aptamers/RAND_B/output-30.txt\n",
      "- process complete : aptamers/RAND_B/output-31.txt\n",
      "- process complete : aptamers/RAND_B/output-32.txt\n",
      "- process complete : aptamers/RAND_B/output-33.txt\n",
      "- process complete : aptamers/RAND_B/output-34.txt\n",
      "- process complete : aptamers/RAND_B/output-35.txt\n",
      "- process complete : aptamers/RAND_B/output-36.txt\n",
      "- process complete : aptamers/RAND_B/output-37.txt\n",
      "- process complete : aptamers/RAND_B/output-38.txt\n",
      "- process complete : aptamers/RAND_B/output-39.txt\n",
      "- process complete : aptamers/RAND_B/output-40.txt\n",
      "- process complete : aptamers/RAND_B/output-41.txt\n",
      "- process complete : aptamers/RAND_B/output-42.txt\n",
      "- process complete : aptamers/RAND_B/output-43.txt\n",
      "- process complete : aptamers/RAND_B/output-44.txt\n",
      "- process complete : aptamers/RAND_B/output-45.txt\n",
      "- process complete : aptamers/RAND_B/output-46.txt\n",
      "- process complete : aptamers/RAND_B/output-47.txt\n",
      "- process complete : aptamers/RAND_B/output-48.txt\n",
      "- process complete : aptamers/RAND_B/output-49.txt\n",
      "- process complete : aptamers/RAND_B/output-50.txt\n",
      "- process complete : aptamers/RAND_B/output-51.txt\n",
      "- process complete : aptamers/RAND_B/output-52.txt\n",
      "- process complete : aptamers/RAND_B/output-53.txt\n",
      "- process complete : aptamers/RAND_B/output-54.txt\n",
      "- process complete : aptamers/RAND_B/output-55.txt\n"
     ]
    }
   ],
   "source": [
    "sampler.post_sampling(target_pseqs=pseqs, target_rseqs=rseqs, top_k=10)"
   ]
  },
  {
   "cell_type": "code",
   "execution_count": null,
   "metadata": {},
   "outputs": [],
   "source": []
  }
 ],
 "metadata": {
  "kernelspec": {
   "display_name": "Python 3",
   "language": "python",
   "name": "python3"
  },
  "language_info": {
   "codemirror_mode": {
    "name": "ipython",
    "version": 3
   },
   "file_extension": ".py",
   "mimetype": "text/x-python",
   "name": "python",
   "nbconvert_exporter": "python",
   "pygments_lexer": "ipython3",
   "version": "3.6.9"
  }
 },
 "nbformat": 4,
 "nbformat_minor": 4
}
